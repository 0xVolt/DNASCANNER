{
 "cells": [
  {
   "cell_type": "markdown",
   "metadata": {},
   "source": [
    "## 0. Import libraries and define global variable"
   ]
  },
  {
   "cell_type": "markdown",
   "metadata": {},
   "source": [
    "Importing the json library to help export whatever data we gather from the DNA sequence."
   ]
  },
  {
   "cell_type": "code",
   "execution_count": 54,
   "metadata": {},
   "outputs": [],
   "source": [
    "import json\n",
    "import pandas as pd"
   ]
  },
  {
   "cell_type": "markdown",
   "metadata": {},
   "source": [
    "Setting the fixed width for the sliding window to traverse the DNA sequence."
   ]
  },
  {
   "cell_type": "code",
   "execution_count": 55,
   "metadata": {},
   "outputs": [],
   "source": [
    "windowWidth = 3"
   ]
  },
  {
   "cell_type": "markdown",
   "metadata": {},
   "source": [
    "## 1. Define functions"
   ]
  },
  {
   "cell_type": "markdown",
   "metadata": {},
   "source": [
    "Function to create DataFrames given nucleotide information. The DataFrames will have nucleotide frequency as well as the percentage that the nucleotide make up of the frame.  "
   ]
  },
  {
   "cell_type": "code",
   "execution_count": 56,
   "metadata": {},
   "outputs": [],
   "source": [
    "def formNucleotideTable(dictionary, base):\n",
    "    # Making the names of the count column dynamic by passing the name of the nucleotide as param\n",
    "    countColName = 'Count of ' + base\n",
    "    \n",
    "    # Create DataFrame using the keys as the index and count values as data\n",
    "    retTable = pd.DataFrame({\n",
    "            'Frame Position': list(dictionary.keys()),\n",
    "            countColName: list(dictionary.values())\n",
    "        }\n",
    "    ).set_index('Frame Position')\n",
    "    \n",
    "    # Calculate percentage of the frame that the nucleotide makes up \n",
    "    countList = retTable[countColName].tolist()\n",
    "    percentage = [((i / windowWidth) * 100) for i in countList]\n",
    "\n",
    "    # Add as a column\n",
    "    retTable['Percentage of Frame'] = percentage\n",
    "    \n",
    "    return retTable"
   ]
  },
  {
   "cell_type": "markdown",
   "metadata": {},
   "source": [
    "Function to implement the sliding window functionality passing the DNA sequence as a string. This function returns four dictionaries, one for each nucleotide containing it's frequency of occurrence in the sequence."
   ]
  },
  {
   "cell_type": "code",
   "execution_count": 57,
   "metadata": {},
   "outputs": [],
   "source": [
    "def slidingWindow(seq):\n",
    "    length = len(seq)\n",
    "    A = dict()\n",
    "    T = dict()\n",
    "    G = dict()\n",
    "    C = dict()\n",
    "    \n",
    "    # Loop through entire sequence\n",
    "    for i in range(length - windowWidth + 1):\n",
    "        aCount = 0\n",
    "        tCount = 0        \n",
    "        gCount = 0\n",
    "        cCount = 0\n",
    "        \n",
    "        # In each iteration, loop though window\n",
    "        for j in range(i, windowWidth + i):\n",
    "            if seq[j] == 'A':\n",
    "                aCount += 1\n",
    "            elif seq[j] == 'T':\n",
    "                tCount += 1\n",
    "            elif seq[j] == 'G':\n",
    "                gCount += 1\n",
    "            else:\n",
    "                cCount += 1\n",
    "                \n",
    "        # Update counts of each nucleotide in respective dictionary\n",
    "        A[i + 1] = aCount    \n",
    "        T[i + 1] = tCount    \n",
    "        G[i + 1] = gCount    \n",
    "        C[i + 1] = cCount  \n",
    "        \n",
    "    return A, T, G, C"
   ]
  },
  {
   "cell_type": "markdown",
   "metadata": {},
   "source": [
    "Simple function to convert a list to a string."
   ]
  },
  {
   "cell_type": "code",
   "execution_count": 58,
   "metadata": {},
   "outputs": [],
   "source": [
    "def listToString(ls): \n",
    "    returnString = ''\n",
    "    \n",
    "    for elt in ls: \n",
    "        returnString += elt  \n",
    "    \n",
    "    return returnString"
   ]
  },
  {
   "cell_type": "markdown",
   "metadata": {},
   "source": [
    "## 2. Import data"
   ]
  },
  {
   "cell_type": "markdown",
   "metadata": {},
   "source": [
    "We store the sample DNA string into a .txt file to keep our notebook clutter-free. That data needs to be imported from the text file to the program using file handling. Since the data is imported as a list, we convert it into a string using the above function."
   ]
  },
  {
   "cell_type": "code",
   "execution_count": 59,
   "metadata": {},
   "outputs": [
    {
     "name": "stdout",
     "output_type": "stream",
     "text": [
      "10000\n"
     ]
    }
   ],
   "source": [
    "# Courtesy of https://www.bioinformatics.org/sms2/random_dna.html & http://www.faculty.ucr.edu/~mmaduro/random.htm\n",
    "with open('dna.txt', 'r') as fin:\n",
    "    lines = fin.readlines()\n",
    "\n",
    "# Convert entire sequence to uppercase\n",
    "dna = listToString(lines).upper()\n",
    "\n",
    "print(len(dna))"
   ]
  },
  {
   "cell_type": "markdown",
   "metadata": {},
   "source": [
    "## 3. Create DataFrames and Export data"
   ]
  },
  {
   "cell_type": "markdown",
   "metadata": {},
   "source": [
    "Creating dictionaries for each nucleotide."
   ]
  },
  {
   "cell_type": "code",
   "execution_count": 60,
   "metadata": {},
   "outputs": [],
   "source": [
    "A, T, G, C = slidingWindow(dna)"
   ]
  },
  {
   "cell_type": "markdown",
   "metadata": {},
   "source": [
    "Here we create the master DataFrame as well as a DataFrame for each individual nucleotide using the function defined above."
   ]
  },
  {
   "cell_type": "code",
   "execution_count": 61,
   "metadata": {},
   "outputs": [],
   "source": [
    "# Creating a master dictionary\n",
    "master = {\n",
    "    'Count of A': A,\n",
    "    'Count of T': T,\n",
    "    'Count of G': G,\n",
    "    'Count of C': C\n",
    "}\n",
    "\n",
    "masterTable = pd.DataFrame(master)\n",
    "\n",
    "# Setting the index to be Frame Position\n",
    "masterTable.index.name = 'Frame Position'"
   ]
  },
  {
   "cell_type": "code",
   "execution_count": 62,
   "metadata": {},
   "outputs": [],
   "source": [
    "# Using the function defined above to make a table for each nucleotide\n",
    "aTable = formNucleotideTable(A, 'A')\n",
    "tTable = formNucleotideTable(T, 'T')\n",
    "gTable = formNucleotideTable(G, 'G')\n",
    "cTable = formNucleotideTable(C, 'C')"
   ]
  },
  {
   "cell_type": "code",
   "execution_count": 63,
   "metadata": {},
   "outputs": [
    {
     "data": {
      "text/html": [
       "<div>\n",
       "<style scoped>\n",
       "    .dataframe tbody tr th:only-of-type {\n",
       "        vertical-align: middle;\n",
       "    }\n",
       "\n",
       "    .dataframe tbody tr th {\n",
       "        vertical-align: top;\n",
       "    }\n",
       "\n",
       "    .dataframe thead th {\n",
       "        text-align: right;\n",
       "    }\n",
       "</style>\n",
       "<table border=\"1\" class=\"dataframe\">\n",
       "  <thead>\n",
       "    <tr style=\"text-align: right;\">\n",
       "      <th></th>\n",
       "      <th>Count of A</th>\n",
       "      <th>Percentage of Frame</th>\n",
       "    </tr>\n",
       "    <tr>\n",
       "      <th>Frame Position</th>\n",
       "      <th></th>\n",
       "      <th></th>\n",
       "    </tr>\n",
       "  </thead>\n",
       "  <tbody>\n",
       "    <tr>\n",
       "      <th>1</th>\n",
       "      <td>2</td>\n",
       "      <td>66.666667</td>\n",
       "    </tr>\n",
       "    <tr>\n",
       "      <th>2</th>\n",
       "      <td>2</td>\n",
       "      <td>66.666667</td>\n",
       "    </tr>\n",
       "    <tr>\n",
       "      <th>3</th>\n",
       "      <td>2</td>\n",
       "      <td>66.666667</td>\n",
       "    </tr>\n",
       "    <tr>\n",
       "      <th>4</th>\n",
       "      <td>2</td>\n",
       "      <td>66.666667</td>\n",
       "    </tr>\n",
       "    <tr>\n",
       "      <th>5</th>\n",
       "      <td>1</td>\n",
       "      <td>33.333333</td>\n",
       "    </tr>\n",
       "    <tr>\n",
       "      <th>...</th>\n",
       "      <td>...</td>\n",
       "      <td>...</td>\n",
       "    </tr>\n",
       "    <tr>\n",
       "      <th>9994</th>\n",
       "      <td>0</td>\n",
       "      <td>0.000000</td>\n",
       "    </tr>\n",
       "    <tr>\n",
       "      <th>9995</th>\n",
       "      <td>1</td>\n",
       "      <td>33.333333</td>\n",
       "    </tr>\n",
       "    <tr>\n",
       "      <th>9996</th>\n",
       "      <td>1</td>\n",
       "      <td>33.333333</td>\n",
       "    </tr>\n",
       "    <tr>\n",
       "      <th>9997</th>\n",
       "      <td>1</td>\n",
       "      <td>33.333333</td>\n",
       "    </tr>\n",
       "    <tr>\n",
       "      <th>9998</th>\n",
       "      <td>1</td>\n",
       "      <td>33.333333</td>\n",
       "    </tr>\n",
       "  </tbody>\n",
       "</table>\n",
       "<p>9998 rows × 2 columns</p>\n",
       "</div>"
      ],
      "text/plain": [
       "                Count of A  Percentage of Frame\n",
       "Frame Position                                 \n",
       "1                        2            66.666667\n",
       "2                        2            66.666667\n",
       "3                        2            66.666667\n",
       "4                        2            66.666667\n",
       "5                        1            33.333333\n",
       "...                    ...                  ...\n",
       "9994                     0             0.000000\n",
       "9995                     1            33.333333\n",
       "9996                     1            33.333333\n",
       "9997                     1            33.333333\n",
       "9998                     1            33.333333\n",
       "\n",
       "[9998 rows x 2 columns]"
      ]
     },
     "execution_count": 63,
     "metadata": {},
     "output_type": "execute_result"
    }
   ],
   "source": [
    "aTable"
   ]
  },
  {
   "cell_type": "markdown",
   "metadata": {},
   "source": [
    "Exporting data to a json file."
   ]
  },
  {
   "cell_type": "code",
   "execution_count": 64,
   "metadata": {},
   "outputs": [],
   "source": [
    "# Serializing json\n",
    "jsonObject = json.dumps(master, indent=4)\n",
    "\n",
    "# Writing json file\n",
    "with open('data.json', 'w') as outfile:\n",
    "    outfile.write(jsonObject)"
   ]
  }
 ],
 "metadata": {
  "kernelspec": {
   "display_name": "Python 3.10.0 64-bit",
   "language": "python",
   "name": "python3"
  },
  "language_info": {
   "codemirror_mode": {
    "name": "ipython",
    "version": 3
   },
   "file_extension": ".py",
   "mimetype": "text/x-python",
   "name": "python",
   "nbconvert_exporter": "python",
   "pygments_lexer": "ipython3",
   "version": "3.10.0"
  },
  "orig_nbformat": 4,
  "vscode": {
   "interpreter": {
    "hash": "3a00e68b57149134ce2b73879182c8cdd95184339958c7ea15c51bb9d3595f11"
   }
  }
 },
 "nbformat": 4,
 "nbformat_minor": 2
}
