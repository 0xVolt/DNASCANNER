{
 "cells": [
  {
   "cell_type": "code",
   "execution_count": 1,
   "metadata": {},
   "outputs": [
    {
     "name": "stdout",
     "output_type": "stream",
     "text": [
      "Requirement already satisfied: Bio in c:\\users\\deshi\\anaconda3\\lib\\site-packages (1.4.0)\n",
      "Requirement already satisfied: requests in c:\\users\\deshi\\anaconda3\\lib\\site-packages (from Bio) (2.26.0)\n",
      "Requirement already satisfied: tqdm in c:\\users\\deshi\\anaconda3\\lib\\site-packages (from Bio) (4.62.3)\n",
      "Requirement already satisfied: mygene in c:\\users\\deshi\\anaconda3\\lib\\site-packages (from Bio) (3.2.2)\n",
      "Requirement already satisfied: biopython>=1.79 in c:\\users\\deshi\\anaconda3\\lib\\site-packages (from Bio) (1.79)\n",
      "Requirement already satisfied: numpy in c:\\users\\deshi\\anaconda3\\lib\\site-packages (from biopython>=1.79->Bio) (1.20.3)\n",
      "Requirement already satisfied: biothings-client>=0.2.6 in c:\\users\\deshi\\anaconda3\\lib\\site-packages (from mygene->Bio) (0.2.6)\n",
      "Requirement already satisfied: urllib3<1.27,>=1.21.1 in c:\\users\\deshi\\anaconda3\\lib\\site-packages (from requests->Bio) (1.26.7)\n",
      "Requirement already satisfied: certifi>=2017.4.17 in c:\\users\\deshi\\anaconda3\\lib\\site-packages (from requests->Bio) (2021.10.8)\n",
      "Requirement already satisfied: charset-normalizer~=2.0.0 in c:\\users\\deshi\\anaconda3\\lib\\site-packages (from requests->Bio) (2.0.4)\n",
      "Requirement already satisfied: idna<4,>=2.5 in c:\\users\\deshi\\anaconda3\\lib\\site-packages (from requests->Bio) (3.2)\n",
      "Requirement already satisfied: colorama in c:\\users\\deshi\\anaconda3\\lib\\site-packages (from tqdm->Bio) (0.4.4)\n",
      "Note: you may need to restart the kernel to use updated packages.\n"
     ]
    }
   ],
   "source": [
    "%pip install Bio"
   ]
  },
  {
   "cell_type": "code",
   "execution_count": 2,
   "metadata": {},
   "outputs": [],
   "source": [
    "# Importing libraries\n",
    "import os\n",
    "import sys\n",
    "import json\n",
    "from Bio import SeqIO\n",
    "import itertools\n"
   ]
  },
  {
   "cell_type": "code",
   "execution_count": 3,
   "metadata": {},
   "outputs": [],
   "source": [
    "# Import Files\n",
    "fasta_path = \"sample.fa\"\n",
    "record_list = list(SeqIO.parse(fasta_path, \"fasta\"))\n"
   ]
  },
  {
   "cell_type": "code",
   "execution_count": 4,
   "metadata": {},
   "outputs": [],
   "source": [
    "# Metadata\n",
    "output_file = open('nucleotide_counts.tsv', 'w')\n",
    "output_file.write('Gene\\tA\\tC\\tG\\tT\\tLength\\tCG%\\n')\n",
    "with open(fasta_path) as handle:\n",
    "    for seq_record in SeqIO.parse(handle, \"fasta\"):\n",
    "        # count nucleotides in this record...\n",
    "        gene_name = seq_record.name\n",
    "        A_count = seq_record.seq.count('A')\n",
    "        C_count = seq_record.seq.count('C')\n",
    "        G_count = seq_record.seq.count('G')\n",
    "        T_count = seq_record.seq.count('T')\n",
    "        length = len(seq_record.seq)\n",
    "        cg_percentage = float(C_count + G_count) / length\n",
    "        output_line = '%s\\t%i\\t%i\\t%i\\t%i\\t%i\\t%f\\n' % (\n",
    "            gene_name, A_count, C_count, G_count, T_count, length, cg_percentage)\n",
    "        output_file.write(output_line)\n"
   ]
  },
  {
   "cell_type": "code",
   "execution_count": 5,
   "metadata": {},
   "outputs": [
    {
     "name": "stdout",
     "output_type": "stream",
     "text": [
      "4\n"
     ]
    }
   ],
   "source": [
    "seq_list = []\n",
    "windowWidth = 4\n",
    "\n",
    "for i in record_list:\n",
    "    seq_list.append(str(i.seq))\n",
    "print(len(seq_list))\n"
   ]
  },
  {
   "cell_type": "code",
   "execution_count": 6,
   "metadata": {},
   "outputs": [],
   "source": [
    "def VariableGenerator(length, string):\n",
    "    nucleotides = [\"A\", \"T\", \"G\", \"C\"]\n",
    "    iterproduct = itertools.product(nucleotides, repeat=length)\n",
    "    list = [''.join(iterproduct) for iterproduct in iterproduct]\n",
    "    var_list = []\n",
    "    for item in list:\n",
    "        variable = str(item+string)\n",
    "        var_list.append(variable)\n",
    "\n",
    "    return var_list\n"
   ]
  },
  {
   "cell_type": "code",
   "execution_count": 7,
   "metadata": {},
   "outputs": [],
   "source": [
    "# Sliding Window function\n",
    "def slidingBlock(seq_list, n):\n",
    "    if windowWidth > n:\n",
    "        TheMegaList = []\n",
    "        Block_size = int((windowWidth - n + 1) * len(seq_list))\n",
    "        Block_score_list_variables = VariableGenerator(n, \"_Block_score_list\")\n",
    "        Nucleic_acid_list = VariableGenerator(n, \"\")\n",
    "        for var in Block_score_list_variables:\n",
    "            globals()[var] = []\n",
    "\n",
    "        # Looping through the list of sequences\n",
    "        for seq in seq_list:\n",
    "            length = len(seq)\n",
    "            Block_score_variables = VariableGenerator(n, \"_Block_score\")\n",
    "            for var in Block_score_variables:\n",
    "                globals()[var] = []\n",
    "\n",
    "            # Loop through entire sequence\n",
    "            for i in range(length - windowWidth + 1):\n",
    "                Count_variables = VariableGenerator(n, \"Count\")\n",
    "                for var in Count_variables:\n",
    "                    globals()[var] = 0\n",
    "\n",
    "                # In each iteration, loop though window\n",
    "                for j in range(i, windowWidth + i):\n",
    "                    for na in Nucleic_acid_list:\n",
    "                        if seq[j:j+n] == na:\n",
    "                            globals()[na+\"Count\"] += 1\n",
    "\n",
    "                # Update counts of each nucleotide in respective dictionary\n",
    "                for z in Nucleic_acid_list:\n",
    "                    a = globals()[str(z+\"_Block_score\")]\n",
    "                    b = globals()[str(z+\"Count\")]\n",
    "                    a.append(b/Block_size)\n",
    "\n",
    "            for y in Nucleic_acid_list:\n",
    "                c = globals()[y+\"_Block_score_list\"]\n",
    "                d = globals()[y+\"_Block_score\"]\n",
    "                c.append(d)\n",
    "\n",
    "        for y in Nucleic_acid_list:\n",
    "            e = globals()[y+\"_Block_score_list\"]\n",
    "            TheMegaList.append(e)\n",
    "        return TheMegaList, Nucleic_acid_list\n",
    "    else:\n",
    "        return 0\n"
   ]
  },
  {
   "cell_type": "code",
   "execution_count": 8,
   "metadata": {},
   "outputs": [],
   "source": [
    "TheMegaList, Nucleic_acid_list = slidingBlock(seq_list, int(2))\n"
   ]
  },
  {
   "cell_type": "code",
   "execution_count": 9,
   "metadata": {},
   "outputs": [],
   "source": [
    "seq_dict = {}\n",
    "for i in range(len(Nucleic_acid_list)):\n",
    "    a = Nucleic_acid_list[i]\n",
    "    seq_dict[a] = TheMegaList[i]\n"
   ]
  },
  {
   "cell_type": "code",
   "execution_count": 10,
   "metadata": {},
   "outputs": [],
   "source": [
    "# Exporting the output as JSON\n",
    "with open(\"output.json\", \"w\") as outfile:\n",
    "    json.dump(seq_dict, outfile)\n"
   ]
  }
 ],
 "metadata": {
  "kernelspec": {
   "display_name": "Python 3.9.7 ('base')",
   "language": "python",
   "name": "python3"
  },
  "language_info": {
   "codemirror_mode": {
    "name": "ipython",
    "version": 3
   },
   "file_extension": ".py",
   "mimetype": "text/x-python",
   "name": "python",
   "nbconvert_exporter": "python",
   "pygments_lexer": "ipython3",
   "version": "3.9.7"
  },
  "orig_nbformat": 4,
  "vscode": {
   "interpreter": {
    "hash": "f0b7333da218775e0d10eaa8939b9fba0a40c900e904e0630ec4f402e4ffc861"
   }
  }
 },
 "nbformat": 4,
 "nbformat_minor": 2
}
